{
  "nbformat": 4,
  "nbformat_minor": 0,
  "metadata": {
    "colab": {
      "name": "motion_generation.ipynb",
      "provenance": [],
      "collapsed_sections": [],
      "toc_visible": true
    },
    "kernelspec": {
      "name": "python3",
      "display_name": "Python 3"
    }
  },
  "cells": [
    {
      "cell_type": "code",
      "metadata": {
        "id": "XbKFnzRZWTmB",
        "outputId": "3900b4ea-4c01-4b72-82b9-5a3648aaa4ab",
        "colab": {
          "base_uri": "https://localhost:8080/",
          "height": 268
        }
      },
      "source": [
        "\n",
        "#import necessary packages\n",
        "import numpy as np\n",
        "from numpy import pi, sin, cos, sqrt\n",
        "import matplotlib.pyplot as plt\n",
        "import matplotlib.animation as animation\n",
        "\n",
        "# input parameters\n",
        "r = 1.0 #  radius\n",
        "l = 4.0 # connecting length\n",
        "rot_num = 4 # number of rotations\n",
        "increment = 0.1 # angle increment\n",
        "\n",
        "# create the angle array, where the last angle is the number of rotations*1*pi\n",
        "angles = np.arange(0,rot_num*0.5*pi+increment,increment)\n",
        "\n",
        "X1=np.zeros(len(angles)) # array of  x-positions: Point 1\n",
        "Y1=np.zeros(len(angles)) # array of  y-positions: Point 1\n",
        "X2=np.zeros(len(angles)) # array of  x-positions: Point 2\n",
        "Y2=np.zeros(len(angles)) # array of  y-positions: Point 2\n",
        "\n",
        "#find the crank and connecting rod positions for each angle\n",
        "for index,theta in enumerate(angles, start=0):\n",
        "    x1 = r*cos(theta) # x-cooridnate of the : Point 1\n",
        "    y1 = r*sin(theta) # y-cooridnate of the : Point 1\n",
        "    x2 = 0 # x-coordinate of the : Point 2\n",
        "    # y-coordinate of the : Point 2\n",
        "    y2 = r*sin(theta) + sqrt( l**2 - (r*cos(theta))**2 )\n",
        "\n",
        "    X1[index] = x1 #  x-position\n",
        "    Y1[index] = y1 #  y-position\n",
        "    X2[index] = x2 # connecting rod x-position\n",
        "    Y2[index] = y2 # connecting rod y-position\n",
        "\n",
        "# set up the figure and subplot\n",
        "fig = plt.figure()\n",
        "fig.canvas.set_window_title('Matplotlib Animation')\n",
        "ax = fig.add_subplot(111, aspect='equal', autoscale_on=False, xlim=(-4,4), ylim=(-2,6))\n",
        "ax.grid()\n",
        "ax.set_title('Elbow Motion Animation')\n",
        "ax.axes.xaxis.set_ticklabels([])\n",
        "ax.axes.yaxis.set_ticklabels([])\n",
        "line, = ax.plot([], [], 'o-', lw=5, color='#de2d26')\n",
        "\n",
        "\n",
        "# initialization function\n",
        "def init():\n",
        "    line.set_data([], [])\n",
        "    return line,\n",
        "\n",
        "# animation function\n",
        "def animate(i):\n",
        "    x_points = [0, X1[i], X2[i]]\n",
        "    y_points = [0, Y1[i], Y2[i]]\n",
        "\n",
        "    line.set_data(x_points, y_points)\n",
        "    return line,\n",
        "\n",
        "# call the animation\n",
        "ani = animation.FuncAnimation(fig, animate, init_func=init, frames=len(X1), interval=40, blit=True, repeat=False)\n",
        "## to save animation, uncomment the line below:\n",
        "ani.save('eblow_motion.mp4', fps=30, extra_args=['-vcodec', 'libx264'])\n",
        "\n",
        "#show the animation\n",
        "plt.show()"
      ],
      "execution_count": null,
      "outputs": [
        {
          "output_type": "display_data",
          "data": {
            "image/png": "[encoded data removed]",
            "text/plain": [
              "<Figure size 432x288 with 1 Axes>"
            ]
          },
          "metadata": {
            "tags": [],
            "needs_background": "light"
          }
        }
      ]
    }
  ]
}